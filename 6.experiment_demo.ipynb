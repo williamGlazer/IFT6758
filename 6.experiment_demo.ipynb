{
 "cells": [
  {
   "cell_type": "code",
   "execution_count": 6,
   "source": [
    "from ift6758.pipeline import ExperimentPipeline, DEFAULT_TRANSFORMATIONS\n",
    "from importlib import reload \n",
    "import ift6758.pipeline"
   ],
   "outputs": [],
   "metadata": {
    "collapsed": false
   }
  },
  {
   "cell_type": "code",
   "execution_count": 10,
   "source": [
    "reload(ift6758.pipeline.features)\n",
    "\n",
    "from ift6758.pipeline.features import (\n",
    "    mirror_coordinates,\n",
    "    append_shot_angle,\n",
    "    append_shot_distance,\n",
    "    replace_nan_by_0,\n",
    "    append_game_secs,\n",
    "    append_time_lapse_prev,\n",
    "    append_dist_prev,\n",
    "    append_rebound,\n",
    "    append_angle_change,\n",
    "    append_speed\n",
    ")"
   ],
   "outputs": [],
   "metadata": {}
  },
  {
   "cell_type": "code",
   "execution_count": 11,
   "source": [
    "trans = [\n",
    "    mirror_coordinates,\n",
    "    append_shot_angle,\n",
    "    append_shot_distance,\n",
    "    replace_nan_by_0,\n",
    "    append_game_secs,\n",
    "    append_time_lapse_prev,\n",
    "    append_dist_prev,\n",
    "    append_rebound,\n",
    "    append_angle_change,\n",
    "    append_speed\n",
    "]\n",
    "df = ExperimentPipeline.get_data('ift6758/data/tabular', transformations=trans)\n",
    "df.head()"
   ],
   "outputs": [],
   "metadata": {
    "collapsed": false
   }
  },
  {
   "cell_type": "code",
   "execution_count": 3,
   "source": [
    "import os\n",
    "from getpass import getpass\n",
    "\n",
    "os.environ['COMET_API_KEY'] = getpass()"
   ],
   "outputs": [],
   "metadata": {
    "collapsed": false
   }
  },
  {
   "cell_type": "code",
   "execution_count": 4,
   "source": [
    "from sklearn.linear_model import LogisticRegression\n",
    "\n",
    "pipeline = ExperimentPipeline(\n",
    "    tabular_dir='../data/tabular',\n",
    "    feature_columns=['shot_distance', 'shot_angle'],\n",
    "    target_column='goal',\n",
    "    pipeline_steps=[\n",
    "        ('logreg', LogisticRegression()),\n",
    "    ],\n",
    "    dataset_transformations=DEFAULT_TRANSFORMATIONS,\n",
    "    parameter_grid=[\n",
    "        {'logreg__penalty': ['l2'], 'logreg__C': [0.1, 1, 10]},\n",
    "    ],\n",
    "    enable_comet=False\n",
    ")"
   ],
   "outputs": [],
   "metadata": {
    "collapsed": true
   }
  },
  {
   "cell_type": "code",
   "execution_count": 5,
   "source": [
    "pipeline.run()"
   ],
   "outputs": [
    {
     "output_type": "stream",
     "name": "stdout",
     "text": [
      "Fitting 5 folds for each of 3 candidates, totalling 15 fits\n",
      "[CV 1/5] END .logreg__C=0.1, logreg__penalty=l2;, score=0.905 total time=   0.9s\n",
      "[CV 2/5] END .logreg__C=0.1, logreg__penalty=l2;, score=0.905 total time=   0.9s\n",
      "[CV 3/5] END .logreg__C=0.1, logreg__penalty=l2;, score=0.905 total time=   0.9s\n",
      "[CV 4/5] END .logreg__C=0.1, logreg__penalty=l2;, score=0.905 total time=   0.9s\n",
      "[CV 5/5] END .logreg__C=0.1, logreg__penalty=l2;, score=0.905 total time=   0.9s\n",
      "[CV 1/5] END ...logreg__C=1, logreg__penalty=l2;, score=0.905 total time=   0.9s\n",
      "[CV 2/5] END ...logreg__C=1, logreg__penalty=l2;, score=0.905 total time=   0.9s\n",
      "[CV 3/5] END ...logreg__C=1, logreg__penalty=l2;, score=0.905 total time=   0.9s\n",
      "[CV 4/5] END ...logreg__C=1, logreg__penalty=l2;, score=0.905 total time=   0.9s\n",
      "[CV 5/5] END ...logreg__C=1, logreg__penalty=l2;, score=0.905 total time=   0.9s\n",
      "[CV 1/5] END ..logreg__C=10, logreg__penalty=l2;, score=0.905 total time=   0.9s\n",
      "[CV 2/5] END ..logreg__C=10, logreg__penalty=l2;, score=0.905 total time=   0.9s\n",
      "[CV 3/5] END ..logreg__C=10, logreg__penalty=l2;, score=0.905 total time=   0.8s\n",
      "[CV 4/5] END ..logreg__C=10, logreg__penalty=l2;, score=0.905 total time=   0.9s\n",
      "[CV 5/5] END ..logreg__C=10, logreg__penalty=l2;, score=0.905 total time=   0.9s\n"
     ]
    }
   ],
   "metadata": {
    "collapsed": false
   }
  },
  {
   "cell_type": "code",
   "execution_count": 6,
   "source": [
    "pipeline.grid.best_score_"
   ],
   "outputs": [
    {
     "output_type": "execute_result",
     "data": {
      "text/plain": [
       "0.9050868966599304"
      ]
     },
     "metadata": {},
     "execution_count": 6
    }
   ],
   "metadata": {
    "collapsed": false
   }
  },
  {
   "cell_type": "code",
   "execution_count": 7,
   "source": [
    "str(pipeline.grid.best_estimator_)"
   ],
   "outputs": [
    {
     "output_type": "execute_result",
     "data": {
      "text/plain": [
       "\"Pipeline(steps=[('logreg', LogisticRegression(C=0.1))])\""
      ]
     },
     "metadata": {},
     "execution_count": 7
    }
   ],
   "metadata": {
    "collapsed": false
   }
  }
 ],
 "metadata": {
  "kernelspec": {
   "name": "python3",
   "display_name": "Python 3.9.7 64-bit"
  },
  "language_info": {
   "name": "python",
   "version": "3.9.7",
   "mimetype": "text/x-python",
   "codemirror_mode": {
    "name": "ipython",
    "version": 3
   },
   "pygments_lexer": "ipython3",
   "nbconvert_exporter": "python",
   "file_extension": ".py"
  },
  "interpreter": {
   "hash": "aee8b7b246df8f9039afb4144a1f6fd8d2ca17a180786b69acc140d282b71a49"
  }
 },
 "nbformat": 4,
 "nbformat_minor": 2
}