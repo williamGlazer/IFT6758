{
 "cells": [
  {
   "cell_type": "markdown",
   "source": [
    "# Notebook to Extract Data\n",
    "The purpose of this notebook is to:\n",
    "1. Extract the raw data\n",
    "2. Format it in a tabular format"
   ],
   "metadata": {
    "collapsed": false
   }
  },
  {
   "cell_type": "code",
   "execution_count": 4,
   "source": [
    "from ift6758.data import NHLLoader, NHLCleaner"
   ],
   "outputs": [],
   "metadata": {
    "collapsed": false
   }
  },
  {
   "cell_type": "markdown",
   "source": [
    "## Extraction"
   ],
   "metadata": {
    "collapsed": false
   }
  },
  {
   "cell_type": "code",
   "execution_count": 2,
   "source": [
    "# Download initial data\n",
    "# [WARNING]: only run if you have some time to spare!\n",
    "\n",
    "# NHLLoader.from_api(out_dir='../data/raw/')"
   ],
   "outputs": [
    {
     "output_type": "stream",
     "name": "stdout",
     "text": [
      "getting season 20172018 game ids\n",
      "getting game data\n"
     ]
    },
    {
     "output_type": "stream",
     "name": "stderr",
     "text": [
      "100%|██████████| 1466/1466 [06:22<00:00,  3.83it/s]\n"
     ]
    },
    {
     "output_type": "stream",
     "name": "stdout",
     "text": [
      "getting season 20182019 game ids\n",
      "getting game data\n"
     ]
    },
    {
     "output_type": "stream",
     "name": "stderr",
     "text": [
      "100%|██████████| 1471/1471 [06:23<00:00,  3.84it/s]\n"
     ]
    },
    {
     "output_type": "stream",
     "name": "stdout",
     "text": [
      "getting season 20192020 game ids\n",
      "getting game data\n"
     ]
    },
    {
     "output_type": "stream",
     "name": "stderr",
     "text": [
      "100%|██████████| 1334/1334 [05:44<00:00,  3.87it/s]\n"
     ]
    },
    {
     "output_type": "stream",
     "name": "stdout",
     "text": [
      "getting season 20202021 game ids\n",
      "getting game data\n"
     ]
    },
    {
     "output_type": "stream",
     "name": "stderr",
     "text": [
      "100%|██████████| 952/952 [05:00<00:00,  3.17it/s]\n"
     ]
    },
    {
     "output_type": "stream",
     "name": "stdout",
     "text": [
      "getting season 20212022 game ids\n",
      "getting game data\n"
     ]
    },
    {
     "output_type": "stream",
     "name": "stderr",
     "text": [
      "100%|██████████| 1507/1507 [07:06<00:00,  3.54it/s]\n"
     ]
    }
   ],
   "metadata": {
    "collapsed": false
   }
  },
  {
   "cell_type": "code",
   "execution_count": 7,
   "source": [
    "NHLLoader.from_gdrive(out_dir=\"../data/raw/\")"
   ],
   "outputs": [
    {
     "output_type": "stream",
     "name": "stderr",
     "text": [
      "Downloading...\n",
      "From: https://drive.google.com/uc?id=1Wx8N8pbRbCckZCbX9vm1r1bGFJo3CEKS\n",
      "To: /home/williamglazer/Documents/school/DS/IFT6758/data/raw/NHL.zip\n",
      "100%|██████████| 189M/189M [00:45<00:00, 4.13MB/s] \n"
     ]
    }
   ],
   "metadata": {
    "collapsed": false
   }
  },
  {
   "cell_type": "markdown",
   "source": [
    "## Cleaning"
   ],
   "metadata": {
    "collapsed": false
   }
  },
  {
   "cell_type": "code",
   "execution_count": 5,
   "source": [
    "\n",
    "# from ift6758.data import NHLCleaner\n",
    "df = NHLCleaner.format_season('./ift6758/data/raw/NHL/20162017.json')\n",
    "df.head()"
   ],
   "outputs": [
    {
     "output_type": "stream",
     "name": "stdout",
     "text": [
      "80399\n"
     ]
    },
    {
     "output_type": "execute_result",
     "data": {
      "text/html": [
       "<div>\n",
       "<style scoped>\n",
       "    .dataframe tbody tr th:only-of-type {\n",
       "        vertical-align: middle;\n",
       "    }\n",
       "\n",
       "    .dataframe tbody tr th {\n",
       "        vertical-align: top;\n",
       "    }\n",
       "\n",
       "    .dataframe thead th {\n",
       "        text-align: right;\n",
       "    }\n",
       "</style>\n",
       "<table border=\"1\" class=\"dataframe\">\n",
       "  <thead>\n",
       "    <tr style=\"text-align: right;\">\n",
       "      <th></th>\n",
       "      <th>game starttime</th>\n",
       "      <th>game endtime</th>\n",
       "      <th>gameId</th>\n",
       "      <th>offense_team_id</th>\n",
       "      <th>offense_team_name</th>\n",
       "      <th>offense_team_tricode</th>\n",
       "      <th>goal</th>\n",
       "      <th>x_coords</th>\n",
       "      <th>y_coords</th>\n",
       "      <th>goalie_id</th>\n",
       "      <th>goalie_name</th>\n",
       "      <th>shooter_id</th>\n",
       "      <th>shooter_name</th>\n",
       "      <th>shot type</th>\n",
       "      <th>empty net</th>\n",
       "      <th>strength_shorthand</th>\n",
       "      <th>strength_even</th>\n",
       "      <th>strength_powerplay</th>\n",
       "    </tr>\n",
       "  </thead>\n",
       "  <tbody>\n",
       "    <tr>\n",
       "      <th>0</th>\n",
       "      <td>2016-10-12T23:00:00Z</td>\n",
       "      <td>2016-10-13T01:56:40Z</td>\n",
       "      <td>0</td>\n",
       "      <td>10</td>\n",
       "      <td>Toronto Maple Leafs</td>\n",
       "      <td>TOR</td>\n",
       "      <td>0</td>\n",
       "      <td>-77.0</td>\n",
       "      <td>5.0</td>\n",
       "      <td>8467950</td>\n",
       "      <td>Craig Anderson</td>\n",
       "      <td>8478483</td>\n",
       "      <td>Mitchell Marner</td>\n",
       "      <td>Wrist Shot</td>\n",
       "      <td>False</td>\n",
       "      <td>NaN</td>\n",
       "      <td>NaN</td>\n",
       "      <td>NaN</td>\n",
       "    </tr>\n",
       "    <tr>\n",
       "      <th>1</th>\n",
       "      <td>2016-10-12T23:00:00Z</td>\n",
       "      <td>2016-10-13T01:56:40Z</td>\n",
       "      <td>1</td>\n",
       "      <td>9</td>\n",
       "      <td>Ottawa Senators</td>\n",
       "      <td>OTT</td>\n",
       "      <td>0</td>\n",
       "      <td>86.0</td>\n",
       "      <td>13.0</td>\n",
       "      <td>8475883</td>\n",
       "      <td>Frederik Andersen</td>\n",
       "      <td>8467967</td>\n",
       "      <td>Chris Kelly</td>\n",
       "      <td>Wrist Shot</td>\n",
       "      <td>False</td>\n",
       "      <td>NaN</td>\n",
       "      <td>NaN</td>\n",
       "      <td>NaN</td>\n",
       "    </tr>\n",
       "    <tr>\n",
       "      <th>2</th>\n",
       "      <td>2016-10-12T23:00:00Z</td>\n",
       "      <td>2016-10-13T01:56:40Z</td>\n",
       "      <td>2</td>\n",
       "      <td>9</td>\n",
       "      <td>Ottawa Senators</td>\n",
       "      <td>OTT</td>\n",
       "      <td>0</td>\n",
       "      <td>23.0</td>\n",
       "      <td>-38.0</td>\n",
       "      <td>8475883</td>\n",
       "      <td>Frederik Andersen</td>\n",
       "      <td>8476879</td>\n",
       "      <td>Cody Ceci</td>\n",
       "      <td>Wrist Shot</td>\n",
       "      <td>False</td>\n",
       "      <td>NaN</td>\n",
       "      <td>NaN</td>\n",
       "      <td>NaN</td>\n",
       "    </tr>\n",
       "    <tr>\n",
       "      <th>3</th>\n",
       "      <td>2016-10-12T23:00:00Z</td>\n",
       "      <td>2016-10-13T01:56:40Z</td>\n",
       "      <td>3</td>\n",
       "      <td>9</td>\n",
       "      <td>Ottawa Senators</td>\n",
       "      <td>OTT</td>\n",
       "      <td>0</td>\n",
       "      <td>33.0</td>\n",
       "      <td>-15.0</td>\n",
       "      <td>8475883</td>\n",
       "      <td>Frederik Andersen</td>\n",
       "      <td>8474578</td>\n",
       "      <td>Erik Karlsson</td>\n",
       "      <td>Slap Shot</td>\n",
       "      <td>False</td>\n",
       "      <td>NaN</td>\n",
       "      <td>NaN</td>\n",
       "      <td>NaN</td>\n",
       "    </tr>\n",
       "    <tr>\n",
       "      <th>4</th>\n",
       "      <td>2016-10-12T23:00:00Z</td>\n",
       "      <td>2016-10-13T01:56:40Z</td>\n",
       "      <td>4</td>\n",
       "      <td>10</td>\n",
       "      <td>Toronto Maple Leafs</td>\n",
       "      <td>TOR</td>\n",
       "      <td>0</td>\n",
       "      <td>-34.0</td>\n",
       "      <td>28.0</td>\n",
       "      <td>8467950</td>\n",
       "      <td>Craig Anderson</td>\n",
       "      <td>8475716</td>\n",
       "      <td>Martin Marincin</td>\n",
       "      <td>Wrist Shot</td>\n",
       "      <td>False</td>\n",
       "      <td>NaN</td>\n",
       "      <td>NaN</td>\n",
       "      <td>NaN</td>\n",
       "    </tr>\n",
       "  </tbody>\n",
       "</table>\n",
       "</div>"
      ],
      "text/plain": [
       "         game starttime          game endtime  gameId  offense_team_id  \\\n",
       "0  2016-10-12T23:00:00Z  2016-10-13T01:56:40Z       0               10   \n",
       "1  2016-10-12T23:00:00Z  2016-10-13T01:56:40Z       1                9   \n",
       "2  2016-10-12T23:00:00Z  2016-10-13T01:56:40Z       2                9   \n",
       "3  2016-10-12T23:00:00Z  2016-10-13T01:56:40Z       3                9   \n",
       "4  2016-10-12T23:00:00Z  2016-10-13T01:56:40Z       4               10   \n",
       "\n",
       "     offense_team_name offense_team_tricode  goal  x_coords  y_coords  \\\n",
       "0  Toronto Maple Leafs                  TOR     0     -77.0       5.0   \n",
       "1      Ottawa Senators                  OTT     0      86.0      13.0   \n",
       "2      Ottawa Senators                  OTT     0      23.0     -38.0   \n",
       "3      Ottawa Senators                  OTT     0      33.0     -15.0   \n",
       "4  Toronto Maple Leafs                  TOR     0     -34.0      28.0   \n",
       "\n",
       "   goalie_id        goalie_name  shooter_id     shooter_name   shot type  \\\n",
       "0    8467950     Craig Anderson     8478483  Mitchell Marner  Wrist Shot   \n",
       "1    8475883  Frederik Andersen     8467967      Chris Kelly  Wrist Shot   \n",
       "2    8475883  Frederik Andersen     8476879        Cody Ceci  Wrist Shot   \n",
       "3    8475883  Frederik Andersen     8474578    Erik Karlsson   Slap Shot   \n",
       "4    8467950     Craig Anderson     8475716  Martin Marincin  Wrist Shot   \n",
       "\n",
       "  empty net  strength_shorthand  strength_even  strength_powerplay  \n",
       "0     False                 NaN            NaN                 NaN  \n",
       "1     False                 NaN            NaN                 NaN  \n",
       "2     False                 NaN            NaN                 NaN  \n",
       "3     False                 NaN            NaN                 NaN  \n",
       "4     False                 NaN            NaN                 NaN  "
      ]
     },
     "metadata": {},
     "execution_count": 5
    }
   ],
   "metadata": {
    "collapsed": false
   }
  },
  {
   "cell_type": "code",
   "execution_count": 8,
   "source": [
    "df.to_csv('../data/tabular/20162017.csv', index=False)"
   ],
   "outputs": [],
   "metadata": {
    "collapsed": false
   }
  }
 ],
 "metadata": {
  "kernelspec": {
   "name": "python3",
   "display_name": "Python 3.8.8 64-bit ('base': conda)"
  },
  "language_info": {
   "name": "python",
   "version": "3.8.8",
   "mimetype": "text/x-python",
   "codemirror_mode": {
    "name": "ipython",
    "version": 3
   },
   "pygments_lexer": "ipython3",
   "nbconvert_exporter": "python",
   "file_extension": ".py"
  },
  "interpreter": {
   "hash": "7eb9d115379397e3afc5b9bd179addc182bde433a6fc3b80e9ea272d1bc126d7"
  }
 },
 "nbformat": 4,
 "nbformat_minor": 2
}