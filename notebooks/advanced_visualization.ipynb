{
 "cells": [
  {
   "cell_type": "code",
   "execution_count": 4,
   "id": "7d2a35cc",
   "metadata": {},
   "outputs": [
    {
     "name": "stdout",
     "output_type": "stream",
     "text": [
      "csv on  /Users/olivercordoba/Documents/github/IFT6758/ift6758/data/tabular\n"
     ]
    }
   ],
   "source": [
    "#import ipywidget\n",
    "from ipywidgets      import widgets,interact,interactive\n",
    "from IPython.display import display\n",
    "import pandas as pd\n",
    "import os\n",
    "from pathlib import Path\n",
    "import plotly.graph_objects as go\n",
    "from PIL import Image\n",
    "\n",
    "'''\n",
    "csv data format\n",
    "\n",
    "    \"game starttime\",\n",
    "    \"game endtime\",\n",
    "    \"gameId\",                counter\n",
    "    \"offense_team_id\",       when event=goal|shot     team offenser \n",
    "    \"offense_team_name\",     when event=goal|shot     team name\n",
    "    \"offense_team_tricode\",  when event=goal|shot     team tricode\n",
    "    \"goal\",                  goal = 1 | shot= 0\n",
    "    \"x_coords\",              \n",
    "    \"y_coords\",\n",
    "    \"goalie_id\",             goalkeeper \n",
    "    \"goalie_name\",           goalkeeper\n",
    "    \"shooter_id\",\n",
    "    \"shooter_name\",\n",
    "    \"shot type\",\n",
    "    \"empty net\",\n",
    "    \"strength_shorthand\",\n",
    "    \"strength_even\",\n",
    "    \"strength_powerplay\",\n",
    "\n",
    "'''\n",
    "full_path = os.getcwd()\n",
    "root_path = str(Path(full_path).parents[0])\n",
    "\n",
    "#define initial parameters\n",
    "im      = Image.open(r'{r}/figures/nhl_rink.png'.format(r=root_path)) \n",
    "seasons = ['20162017','20172018','20182019','20192020', '20202021']\n",
    "teams   = ['NOP','NJD','NYI','NYR','PHI','PIT','BOS','BUF','MTL','OTT','TOR','FLA','WSH','CHI','DET','NSH','STL','CGY','COL','EDM','VAN','ANA','DAL','LAK','SJS','CBJ','MIN','WPG','ARI','VGK','SEA']\n",
    "\n",
    "print('csv on ',root_path+\"/ift6758/data/tabular\") \n"
   ]
  },
  {
   "cell_type": "code",
   "execution_count": 8,
   "id": "aef12709",
   "metadata": {
    "scrolled": false
   },
   "outputs": [
    {
     "data": {
      "application/vnd.jupyter.widget-view+json": {
       "model_id": "48651903661e4f53996815a2444007d9",
       "version_major": 2,
       "version_minor": 0
      },
      "text/plain": [
       "interactive(children=(Dropdown(description='Season', options=('20162017', '20172018', '20182019', '20192020', …"
      ]
     },
     "metadata": {},
     "output_type": "display_data"
    }
   ],
   "source": [
    "'''\n",
    " based on season and team, draw all shooting point on the map\n",
    " \n",
    "'''\n",
    "def vgraph(season,team):\n",
    "    \n",
    "    # Create figure\n",
    "    fig = go.Figure()\n",
    "    \n",
    "    print('season: {s} team: {t} '.format(s=season,t=team))\n",
    "    \n",
    "    #load data for selected season / team\n",
    "    csv_path  = root_path+'/ift6758/data/tabular/'+season+'.csv'\n",
    "    df = pd.read_csv(csv_path)\n",
    "    df2 =df[df['offense_team_tricode'] == team]\n",
    "    \n",
    "    # Add traces\n",
    "    fig.add_trace(\n",
    "        go.Scatter(\n",
    "            x=df2.loc[:, 'x_coords'],\n",
    "            y=df2.loc[:, 'y_coords'],\n",
    "            mode=\"markers\",\n",
    "            marker=dict(color=\"DarkOrange\"),\n",
    "        )\n",
    "    )\n",
    "   \n",
    "    # Add background image\n",
    "    fig.add_layout_image(\n",
    "        dict(\n",
    "            source=im,\n",
    "            xref=\"x\",\n",
    "            yref=\"y\",\n",
    "            x=-100,   # dims in feet\n",
    "            y=42.5,\n",
    "            sizex=200,\n",
    "            sizey=85,\n",
    "            sizing=\"stretch\",\n",
    "            opacity=0.8,\n",
    "            layer=\"below\"\n",
    "        )\n",
    "    )\n",
    "    \n",
    "    \n",
    "    #run view\n",
    "    fig.update_layout(template=\"plotly_white\")\n",
    "    fig.show()\n",
    "    \n",
    "    \n",
    "w = interactive(vgraph,  season=widgets.Dropdown(options=seasons, value='20162017', description='Season',),\n",
    "                         team  =widgets.Dropdown(options=teams,   value='MTL',      description='Team'),\n",
    "                       )\n",
    "\n",
    "\n",
    "display(w)\n",
    "    "
   ]
  },
  {
   "cell_type": "code",
   "execution_count": null,
   "id": "8411e68e",
   "metadata": {},
   "outputs": [],
   "source": []
  }
 ],
 "metadata": {
  "kernelspec": {
   "display_name": "Python 3 (ipykernel)",
   "language": "python",
   "name": "python3"
  },
  "language_info": {
   "codemirror_mode": {
    "name": "ipython",
    "version": 3
   },
   "file_extension": ".py",
   "mimetype": "text/x-python",
   "name": "python",
   "nbconvert_exporter": "python",
   "pygments_lexer": "ipython3",
   "version": "3.9.12"
  }
 },
 "nbformat": 4,
 "nbformat_minor": 5
}
