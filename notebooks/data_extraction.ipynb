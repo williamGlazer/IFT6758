{
 "cells": [
  {
   "cell_type": "markdown",
   "source": [
    "# Notebook to Extract Data\n",
    "The purpose of this notebook is to:\n",
    "1. Extract the raw data\n",
    "2. Format it in a tabular format"
   ],
   "metadata": {
    "collapsed": false
   }
  },
  {
   "cell_type": "code",
   "execution_count": 2,
   "outputs": [],
   "source": [
    "from ift6758.data import NHLLoader, NHLCleaner"
   ],
   "metadata": {
    "collapsed": false
   }
  },
  {
   "cell_type": "markdown",
   "source": [
    "## Extraction"
   ],
   "metadata": {
    "collapsed": false
   }
  },
  {
   "cell_type": "code",
   "execution_count": 2,
   "source": [
    "# Download initial data\n",
    "# [WARNING]: only run if you have some time to spare!\n",
    "\n",
    "# NHLLoader.from_api(out_dir='../data/raw/')"
   ],
   "outputs": [
    {
     "output_type": "stream",
     "name": "stdout",
     "text": [
      "getting season 20172018 game ids\n",
      "getting game data\n"
     ]
    },
    {
     "output_type": "stream",
     "name": "stderr",
     "text": [
      "100%|██████████| 1466/1466 [06:22<00:00,  3.83it/s]\n"
     ]
    },
    {
     "output_type": "stream",
     "name": "stdout",
     "text": [
      "getting season 20182019 game ids\n",
      "getting game data\n"
     ]
    },
    {
     "output_type": "stream",
     "name": "stderr",
     "text": [
      "100%|██████████| 1471/1471 [06:23<00:00,  3.84it/s]\n"
     ]
    },
    {
     "output_type": "stream",
     "name": "stdout",
     "text": [
      "getting season 20192020 game ids\n",
      "getting game data\n"
     ]
    },
    {
     "output_type": "stream",
     "name": "stderr",
     "text": [
      "100%|██████████| 1334/1334 [05:44<00:00,  3.87it/s]\n"
     ]
    },
    {
     "output_type": "stream",
     "name": "stdout",
     "text": [
      "getting season 20202021 game ids\n",
      "getting game data\n"
     ]
    },
    {
     "output_type": "stream",
     "name": "stderr",
     "text": [
      "100%|██████████| 952/952 [05:00<00:00,  3.17it/s]\n"
     ]
    },
    {
     "output_type": "stream",
     "name": "stdout",
     "text": [
      "getting season 20212022 game ids\n",
      "getting game data\n"
     ]
    },
    {
     "output_type": "stream",
     "name": "stderr",
     "text": [
      "100%|██████████| 1507/1507 [07:06<00:00,  3.54it/s]\n"
     ]
    }
   ],
   "metadata": {
    "collapsed": false
   }
  },
  {
   "cell_type": "code",
   "execution_count": 7,
   "source": [
    "NHLLoader.from_gdrive(out_dir=\"../data/raw/\")"
   ],
   "outputs": [
    {
     "name": "stderr",
     "output_type": "stream",
     "text": [
      "Downloading...\n",
      "From: https://drive.google.com/uc?id=1Wx8N8pbRbCckZCbX9vm1r1bGFJo3CEKS\n",
      "To: /home/williamglazer/Documents/school/DS/IFT6758/data/raw/NHL.zip\n",
      "100%|██████████| 189M/189M [00:45<00:00, 4.13MB/s] \n"
     ]
    }
   ],
   "metadata": {
    "collapsed": false
   }
  },
  {
   "cell_type": "markdown",
   "source": [
    "## Cleaning"
   ],
   "metadata": {
    "collapsed": false
   }
  },
  {
   "cell_type": "code",
   "execution_count": 3,
   "outputs": [
    {
     "name": "stdout",
     "output_type": "stream",
     "text": [
      "80399\n"
     ]
    },
    {
     "data": {
      "text/plain": "         game starttime          game endtime  gameId  offense_team_id  \\\n0  2016-10-12T23:00:00Z  2016-10-13T01:56:40Z       0               10   \n1  2016-10-12T23:00:00Z  2016-10-13T01:56:40Z       1                9   \n2  2016-10-12T23:00:00Z  2016-10-13T01:56:40Z       2                9   \n3  2016-10-12T23:00:00Z  2016-10-13T01:56:40Z       3                9   \n4  2016-10-12T23:00:00Z  2016-10-13T01:56:40Z       4               10   \n\n     offense_team_name offense_team_tricode  goal  x_coords  y_coords  \\\n0  Toronto Maple Leafs                  TOR     0     -77.0       5.0   \n1      Ottawa Senators                  OTT     0      86.0      13.0   \n2      Ottawa Senators                  OTT     0      23.0     -38.0   \n3      Ottawa Senators                  OTT     0      33.0     -15.0   \n4  Toronto Maple Leafs                  TOR     0     -34.0      28.0   \n\n   goalie_id        goalie_name  shooter_id     shooter_name   shot type  \\\n0    8467950     Craig Anderson     8478483  Mitchell Marner  Wrist Shot   \n1    8475883  Frederik Andersen     8467967      Chris Kelly  Wrist Shot   \n2    8475883  Frederik Andersen     8476879        Cody Ceci  Wrist Shot   \n3    8475883  Frederik Andersen     8474578    Erik Karlsson   Slap Shot   \n4    8467950     Craig Anderson     8475716  Martin Marincin  Wrist Shot   \n\n  empty net  strength_shorthand  strength_even  strength_powerplay  \n0     False                 NaN            NaN                 NaN  \n1     False                 NaN            NaN                 NaN  \n2     False                 NaN            NaN                 NaN  \n3     False                 NaN            NaN                 NaN  \n4     False                 NaN            NaN                 NaN  ",
      "text/html": "<div>\n<style scoped>\n    .dataframe tbody tr th:only-of-type {\n        vertical-align: middle;\n    }\n\n    .dataframe tbody tr th {\n        vertical-align: top;\n    }\n\n    .dataframe thead th {\n        text-align: right;\n    }\n</style>\n<table border=\"1\" class=\"dataframe\">\n  <thead>\n    <tr style=\"text-align: right;\">\n      <th></th>\n      <th>game starttime</th>\n      <th>game endtime</th>\n      <th>gameId</th>\n      <th>offense_team_id</th>\n      <th>offense_team_name</th>\n      <th>offense_team_tricode</th>\n      <th>goal</th>\n      <th>x_coords</th>\n      <th>y_coords</th>\n      <th>goalie_id</th>\n      <th>goalie_name</th>\n      <th>shooter_id</th>\n      <th>shooter_name</th>\n      <th>shot type</th>\n      <th>empty net</th>\n      <th>strength_shorthand</th>\n      <th>strength_even</th>\n      <th>strength_powerplay</th>\n    </tr>\n  </thead>\n  <tbody>\n    <tr>\n      <th>0</th>\n      <td>2016-10-12T23:00:00Z</td>\n      <td>2016-10-13T01:56:40Z</td>\n      <td>0</td>\n      <td>10</td>\n      <td>Toronto Maple Leafs</td>\n      <td>TOR</td>\n      <td>0</td>\n      <td>-77.0</td>\n      <td>5.0</td>\n      <td>8467950</td>\n      <td>Craig Anderson</td>\n      <td>8478483</td>\n      <td>Mitchell Marner</td>\n      <td>Wrist Shot</td>\n      <td>False</td>\n      <td>NaN</td>\n      <td>NaN</td>\n      <td>NaN</td>\n    </tr>\n    <tr>\n      <th>1</th>\n      <td>2016-10-12T23:00:00Z</td>\n      <td>2016-10-13T01:56:40Z</td>\n      <td>1</td>\n      <td>9</td>\n      <td>Ottawa Senators</td>\n      <td>OTT</td>\n      <td>0</td>\n      <td>86.0</td>\n      <td>13.0</td>\n      <td>8475883</td>\n      <td>Frederik Andersen</td>\n      <td>8467967</td>\n      <td>Chris Kelly</td>\n      <td>Wrist Shot</td>\n      <td>False</td>\n      <td>NaN</td>\n      <td>NaN</td>\n      <td>NaN</td>\n    </tr>\n    <tr>\n      <th>2</th>\n      <td>2016-10-12T23:00:00Z</td>\n      <td>2016-10-13T01:56:40Z</td>\n      <td>2</td>\n      <td>9</td>\n      <td>Ottawa Senators</td>\n      <td>OTT</td>\n      <td>0</td>\n      <td>23.0</td>\n      <td>-38.0</td>\n      <td>8475883</td>\n      <td>Frederik Andersen</td>\n      <td>8476879</td>\n      <td>Cody Ceci</td>\n      <td>Wrist Shot</td>\n      <td>False</td>\n      <td>NaN</td>\n      <td>NaN</td>\n      <td>NaN</td>\n    </tr>\n    <tr>\n      <th>3</th>\n      <td>2016-10-12T23:00:00Z</td>\n      <td>2016-10-13T01:56:40Z</td>\n      <td>3</td>\n      <td>9</td>\n      <td>Ottawa Senators</td>\n      <td>OTT</td>\n      <td>0</td>\n      <td>33.0</td>\n      <td>-15.0</td>\n      <td>8475883</td>\n      <td>Frederik Andersen</td>\n      <td>8474578</td>\n      <td>Erik Karlsson</td>\n      <td>Slap Shot</td>\n      <td>False</td>\n      <td>NaN</td>\n      <td>NaN</td>\n      <td>NaN</td>\n    </tr>\n    <tr>\n      <th>4</th>\n      <td>2016-10-12T23:00:00Z</td>\n      <td>2016-10-13T01:56:40Z</td>\n      <td>4</td>\n      <td>10</td>\n      <td>Toronto Maple Leafs</td>\n      <td>TOR</td>\n      <td>0</td>\n      <td>-34.0</td>\n      <td>28.0</td>\n      <td>8467950</td>\n      <td>Craig Anderson</td>\n      <td>8475716</td>\n      <td>Martin Marincin</td>\n      <td>Wrist Shot</td>\n      <td>False</td>\n      <td>NaN</td>\n      <td>NaN</td>\n      <td>NaN</td>\n    </tr>\n  </tbody>\n</table>\n</div>"
     },
     "execution_count": 3,
     "metadata": {},
     "output_type": "execute_result"
    }
   ],
   "source": [
    "df = NHLCleaner.format_season('../data/raw/20162017.json')\n",
    "df.head()"
   ],
   "metadata": {
    "collapsed": false
   }
  },
  {
   "cell_type": "code",
   "execution_count": 8,
   "outputs": [],
   "source": [
    "df.to_csv('../data/tabular/20162017.csv', index=False)"
   ],
   "metadata": {
    "collapsed": false
   }
  }
 ],
 "metadata": {
  "kernelspec": {
   "display_name": "Python 3",
   "language": "python",
   "name": "python3"
  },
  "language_info": {
   "codemirror_mode": {
    "name": "ipython",
    "version": 2
   },
   "file_extension": ".py",
   "mimetype": "text/x-python",
   "name": "python",
   "nbconvert_exporter": "python",
   "pygments_lexer": "ipython2",
   "version": "2.7.6"
  }
 },
 "nbformat": 4,
 "nbformat_minor": 2
}
