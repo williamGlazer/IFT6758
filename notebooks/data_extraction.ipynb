{
 "cells": [
  {
   "cell_type": "markdown",
   "source": [
    "# Notebook to Extract Data\n",
    "The purpose of this notebook is to:\n",
    "1. Extract the raw data\n",
    "2. Format it in a tabular format"
   ],
   "metadata": {
    "collapsed": false
   }
  },
  {
   "cell_type": "code",
   "execution_count": 3,
   "source": [
    "from ift6758.data import NHLLoader, NHLCleaner\n"
   ],
   "outputs": [],
   "metadata": {
    "collapsed": false
   }
  },
  {
   "cell_type": "markdown",
   "source": [
    "## Extraction"
   ],
   "metadata": {
    "collapsed": false
   }
  },
  {
   "cell_type": "code",
   "execution_count": 4,
   "source": [
    "# Download initial data\n",
    "# [WARNING]: only run if you have some time to spare!\n",
    "\n",
    "# NHLLoader.from_api(out_dir='../data/raw/')"
   ],
   "outputs": [],
   "metadata": {
    "collapsed": false
   }
  },
  {
   "cell_type": "code",
   "execution_count": 2,
   "source": [
    "NHLLoader.from_gdrive(out_dir=\"../data/raw/\")"
   ],
   "outputs": [
    {
     "output_type": "stream",
     "name": "stderr",
     "text": [
      "Downloading...\n",
      "From: https://drive.google.com/uc?id=1Wx8N8pbRbCckZCbX9vm1r1bGFJo3CEKS\n",
      "To: /Users/clemencegranade/Documents/ift6758 - DS/group_proj1/IFT6758/ift6758/data/raw/NHL.zip\n",
      "100%|██████████| 189M/189M [00:08<00:00, 22.0MB/s]\n"
     ]
    }
   ],
   "metadata": {
    "collapsed": false
   }
  },
  {
   "cell_type": "markdown",
   "source": [
    "## Cleaning"
   ],
   "metadata": {
    "collapsed": false
   }
  },
  {
   "cell_type": "code",
   "execution_count": 8,
   "source": [
    "seasons = [\n",
    "    20162017,\n",
    "    20172018,\n",
    "    20182019,\n",
    "    20192020,\n",
    "    20202021,\n",
    "    20212022,\n",
    "]\n",
    "\n",
    "for season in seasons:\n",
    "    df = NHLCleaner.format_season(f'../data/raw/{season}.json')\n",
    "    df.to_csv(f'../data/tabular/{season}.csv', index=False)"
   ],
   "outputs": [],
   "metadata": {}
  },
  {
   "cell_type": "code",
   "execution_count": 9,
   "source": [
    "df.head(10)"
   ],
   "outputs": [
    {
     "data": {
      "text/plain": "         game starttime          game endtime  gameId  offense_team_id  \\\n0  2021-10-12T23:30:00Z  2021-10-13T02:17:13Z       0               14   \n1  2021-10-12T23:30:00Z  2021-10-13T02:17:13Z       1                5   \n2  2021-10-12T23:30:00Z  2021-10-13T02:17:13Z       2               14   \n3  2021-10-12T23:30:00Z  2021-10-13T02:17:13Z       3                5   \n4  2021-10-12T23:30:00Z  2021-10-13T02:17:13Z       4               14   \n5  2021-10-12T23:30:00Z  2021-10-13T02:17:13Z       5                5   \n6  2021-10-12T23:30:00Z  2021-10-13T02:17:13Z       6                5   \n7  2021-10-12T23:30:00Z  2021-10-13T02:17:13Z       7               14   \n8  2021-10-12T23:30:00Z  2021-10-13T02:17:13Z       8                5   \n9  2021-10-12T23:30:00Z  2021-10-13T02:17:13Z       9                5   \n\n     offense_team_name offense_team_tricode  goal  x_coords  y_coords  \\\n0  Tampa Bay Lightning                  TBL     0      61.0     -32.0   \n1  Pittsburgh Penguins                  PIT     0     -65.0      19.0   \n2  Tampa Bay Lightning                  TBL     0      -8.0     -27.0   \n3  Pittsburgh Penguins                  PIT     0     -60.0      -4.0   \n4  Tampa Bay Lightning                  TBL     0      63.0       4.0   \n5  Pittsburgh Penguins                  PIT     0     -63.0     -33.0   \n6  Pittsburgh Penguins                  PIT     0     -61.0     -10.0   \n7  Tampa Bay Lightning                  TBL     0      64.0      31.0   \n8  Pittsburgh Penguins                  PIT     0     -75.0      -9.0   \n9  Pittsburgh Penguins                  PIT     0     -73.0      12.0   \n\n   goalie_id         goalie_name  shooter_id    shooter_name   shot type  \\\n0    8477465       Tristan Jarry     8474564  Steven Stamkos  Wrist Shot   \n1    8476883  Andrei Vasilevskiy     8476934    Brock McGinn  Wrist Shot   \n2    8477465       Tristan Jarry     8480172       Jan Rutta  Wrist Shot   \n3    8476883  Andrei Vasilevskiy     8478046   Danton Heinen  Wrist Shot   \n4    8477465       Tristan Jarry     8476292    Ondrej Palat  Wrist Shot   \n5    8476883  Andrei Vasilevskiy     8478017   Mark Friedman  Wrist Shot   \n6    8476883  Andrei Vasilevskiy     8478866   Dominik Simon   Slap Shot   \n7    8477465       Tristan Jarry     8475167   Victor Hedman  Wrist Shot   \n8    8476883  Andrei Vasilevskiy     8475810      Bryan Rust    Backhand   \n9    8476883  Andrei Vasilevskiy     8482055   Drew O'Connor  Wrist Shot   \n\n  empty net  strength_shorthand  strength_even  strength_powerplay  \n0     False                 NaN            NaN                 NaN  \n1     False                 NaN            NaN                 NaN  \n2     False                 NaN            NaN                 NaN  \n3     False                 NaN            NaN                 NaN  \n4     False                 NaN            NaN                 NaN  \n5     False                 NaN            NaN                 NaN  \n6     False                 NaN            NaN                 NaN  \n7     False                 NaN            NaN                 NaN  \n8     False                 NaN            NaN                 NaN  \n9     False                 NaN            NaN                 NaN  ",
      "text/html": "<div>\n<style scoped>\n    .dataframe tbody tr th:only-of-type {\n        vertical-align: middle;\n    }\n\n    .dataframe tbody tr th {\n        vertical-align: top;\n    }\n\n    .dataframe thead th {\n        text-align: right;\n    }\n</style>\n<table border=\"1\" class=\"dataframe\">\n  <thead>\n    <tr style=\"text-align: right;\">\n      <th></th>\n      <th>game starttime</th>\n      <th>game endtime</th>\n      <th>gameId</th>\n      <th>offense_team_id</th>\n      <th>offense_team_name</th>\n      <th>offense_team_tricode</th>\n      <th>goal</th>\n      <th>x_coords</th>\n      <th>y_coords</th>\n      <th>goalie_id</th>\n      <th>goalie_name</th>\n      <th>shooter_id</th>\n      <th>shooter_name</th>\n      <th>shot type</th>\n      <th>empty net</th>\n      <th>strength_shorthand</th>\n      <th>strength_even</th>\n      <th>strength_powerplay</th>\n    </tr>\n  </thead>\n  <tbody>\n    <tr>\n      <th>0</th>\n      <td>2021-10-12T23:30:00Z</td>\n      <td>2021-10-13T02:17:13Z</td>\n      <td>0</td>\n      <td>14</td>\n      <td>Tampa Bay Lightning</td>\n      <td>TBL</td>\n      <td>0</td>\n      <td>61.0</td>\n      <td>-32.0</td>\n      <td>8477465</td>\n      <td>Tristan Jarry</td>\n      <td>8474564</td>\n      <td>Steven Stamkos</td>\n      <td>Wrist Shot</td>\n      <td>False</td>\n      <td>NaN</td>\n      <td>NaN</td>\n      <td>NaN</td>\n    </tr>\n    <tr>\n      <th>1</th>\n      <td>2021-10-12T23:30:00Z</td>\n      <td>2021-10-13T02:17:13Z</td>\n      <td>1</td>\n      <td>5</td>\n      <td>Pittsburgh Penguins</td>\n      <td>PIT</td>\n      <td>0</td>\n      <td>-65.0</td>\n      <td>19.0</td>\n      <td>8476883</td>\n      <td>Andrei Vasilevskiy</td>\n      <td>8476934</td>\n      <td>Brock McGinn</td>\n      <td>Wrist Shot</td>\n      <td>False</td>\n      <td>NaN</td>\n      <td>NaN</td>\n      <td>NaN</td>\n    </tr>\n    <tr>\n      <th>2</th>\n      <td>2021-10-12T23:30:00Z</td>\n      <td>2021-10-13T02:17:13Z</td>\n      <td>2</td>\n      <td>14</td>\n      <td>Tampa Bay Lightning</td>\n      <td>TBL</td>\n      <td>0</td>\n      <td>-8.0</td>\n      <td>-27.0</td>\n      <td>8477465</td>\n      <td>Tristan Jarry</td>\n      <td>8480172</td>\n      <td>Jan Rutta</td>\n      <td>Wrist Shot</td>\n      <td>False</td>\n      <td>NaN</td>\n      <td>NaN</td>\n      <td>NaN</td>\n    </tr>\n    <tr>\n      <th>3</th>\n      <td>2021-10-12T23:30:00Z</td>\n      <td>2021-10-13T02:17:13Z</td>\n      <td>3</td>\n      <td>5</td>\n      <td>Pittsburgh Penguins</td>\n      <td>PIT</td>\n      <td>0</td>\n      <td>-60.0</td>\n      <td>-4.0</td>\n      <td>8476883</td>\n      <td>Andrei Vasilevskiy</td>\n      <td>8478046</td>\n      <td>Danton Heinen</td>\n      <td>Wrist Shot</td>\n      <td>False</td>\n      <td>NaN</td>\n      <td>NaN</td>\n      <td>NaN</td>\n    </tr>\n    <tr>\n      <th>4</th>\n      <td>2021-10-12T23:30:00Z</td>\n      <td>2021-10-13T02:17:13Z</td>\n      <td>4</td>\n      <td>14</td>\n      <td>Tampa Bay Lightning</td>\n      <td>TBL</td>\n      <td>0</td>\n      <td>63.0</td>\n      <td>4.0</td>\n      <td>8477465</td>\n      <td>Tristan Jarry</td>\n      <td>8476292</td>\n      <td>Ondrej Palat</td>\n      <td>Wrist Shot</td>\n      <td>False</td>\n      <td>NaN</td>\n      <td>NaN</td>\n      <td>NaN</td>\n    </tr>\n    <tr>\n      <th>5</th>\n      <td>2021-10-12T23:30:00Z</td>\n      <td>2021-10-13T02:17:13Z</td>\n      <td>5</td>\n      <td>5</td>\n      <td>Pittsburgh Penguins</td>\n      <td>PIT</td>\n      <td>0</td>\n      <td>-63.0</td>\n      <td>-33.0</td>\n      <td>8476883</td>\n      <td>Andrei Vasilevskiy</td>\n      <td>8478017</td>\n      <td>Mark Friedman</td>\n      <td>Wrist Shot</td>\n      <td>False</td>\n      <td>NaN</td>\n      <td>NaN</td>\n      <td>NaN</td>\n    </tr>\n    <tr>\n      <th>6</th>\n      <td>2021-10-12T23:30:00Z</td>\n      <td>2021-10-13T02:17:13Z</td>\n      <td>6</td>\n      <td>5</td>\n      <td>Pittsburgh Penguins</td>\n      <td>PIT</td>\n      <td>0</td>\n      <td>-61.0</td>\n      <td>-10.0</td>\n      <td>8476883</td>\n      <td>Andrei Vasilevskiy</td>\n      <td>8478866</td>\n      <td>Dominik Simon</td>\n      <td>Slap Shot</td>\n      <td>False</td>\n      <td>NaN</td>\n      <td>NaN</td>\n      <td>NaN</td>\n    </tr>\n    <tr>\n      <th>7</th>\n      <td>2021-10-12T23:30:00Z</td>\n      <td>2021-10-13T02:17:13Z</td>\n      <td>7</td>\n      <td>14</td>\n      <td>Tampa Bay Lightning</td>\n      <td>TBL</td>\n      <td>0</td>\n      <td>64.0</td>\n      <td>31.0</td>\n      <td>8477465</td>\n      <td>Tristan Jarry</td>\n      <td>8475167</td>\n      <td>Victor Hedman</td>\n      <td>Wrist Shot</td>\n      <td>False</td>\n      <td>NaN</td>\n      <td>NaN</td>\n      <td>NaN</td>\n    </tr>\n    <tr>\n      <th>8</th>\n      <td>2021-10-12T23:30:00Z</td>\n      <td>2021-10-13T02:17:13Z</td>\n      <td>8</td>\n      <td>5</td>\n      <td>Pittsburgh Penguins</td>\n      <td>PIT</td>\n      <td>0</td>\n      <td>-75.0</td>\n      <td>-9.0</td>\n      <td>8476883</td>\n      <td>Andrei Vasilevskiy</td>\n      <td>8475810</td>\n      <td>Bryan Rust</td>\n      <td>Backhand</td>\n      <td>False</td>\n      <td>NaN</td>\n      <td>NaN</td>\n      <td>NaN</td>\n    </tr>\n    <tr>\n      <th>9</th>\n      <td>2021-10-12T23:30:00Z</td>\n      <td>2021-10-13T02:17:13Z</td>\n      <td>9</td>\n      <td>5</td>\n      <td>Pittsburgh Penguins</td>\n      <td>PIT</td>\n      <td>0</td>\n      <td>-73.0</td>\n      <td>12.0</td>\n      <td>8476883</td>\n      <td>Andrei Vasilevskiy</td>\n      <td>8482055</td>\n      <td>Drew O'Connor</td>\n      <td>Wrist Shot</td>\n      <td>False</td>\n      <td>NaN</td>\n      <td>NaN</td>\n      <td>NaN</td>\n    </tr>\n  </tbody>\n</table>\n</div>"
     },
     "execution_count": 9,
     "metadata": {},
     "output_type": "execute_result"
    }
   ],
   "metadata": {}
  }
 ],
 "metadata": {
  "kernelspec": {
   "name": "python3",
   "display_name": "Python 3.8.3 64-bit ('base': conda)"
  },
  "language_info": {
   "name": "python",
   "version": "3.8.3",
   "mimetype": "text/x-python",
   "codemirror_mode": {
    "name": "ipython",
    "version": 3
   },
   "pygments_lexer": "ipython3",
   "nbconvert_exporter": "python",
   "file_extension": ".py"
  },
  "interpreter": {
   "hash": "dca0ade3e726a953b501b15e8e990130d2b7799f14cfd9f4271676035ebe5511"
  }
 },
 "nbformat": 4,
 "nbformat_minor": 2
}
