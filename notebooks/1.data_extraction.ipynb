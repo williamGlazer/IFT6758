{
 "cells": [
  {
   "cell_type": "markdown",
   "source": [
    "# Notebook to Extract Data\n",
    "The purpose of this notebook is to:\n",
    "1. Extract the raw data\n",
    "2. Format it in a tabular format"
   ],
   "metadata": {
    "collapsed": false
   }
  },
  {
   "cell_type": "code",
   "execution_count": 1,
   "source": [
    "from ift6758.data import NHLLoader, NHLCleaner"
   ],
   "outputs": [],
   "metadata": {
    "collapsed": false
   }
  },
  {
   "cell_type": "markdown",
   "source": [
    "## Extraction"
   ],
   "metadata": {
    "collapsed": false
   }
  },
  {
   "cell_type": "code",
   "execution_count": 2,
   "source": [
    "# Download initial data\n",
    "# [WARNING]: only run if you have some time to spare!\n",
    "\n",
    "# NHLLoader.from_api(out_dir='../data/raw/')"
   ],
   "outputs": [
    {
     "output_type": "stream",
     "name": "stdout",
     "text": [
      "getting season 20172018 game ids\n",
      "getting game data\n"
     ]
    },
    {
     "output_type": "stream",
     "name": "stderr",
     "text": [
      "100%|██████████| 1466/1466 [06:22<00:00,  3.83it/s]\n"
     ]
    },
    {
     "output_type": "stream",
     "name": "stdout",
     "text": [
      "getting season 20182019 game ids\n",
      "getting game data\n"
     ]
    },
    {
     "output_type": "stream",
     "name": "stderr",
     "text": [
      "100%|██████████| 1471/1471 [06:23<00:00,  3.84it/s]\n"
     ]
    },
    {
     "output_type": "stream",
     "name": "stdout",
     "text": [
      "getting season 20192020 game ids\n",
      "getting game data\n"
     ]
    },
    {
     "output_type": "stream",
     "name": "stderr",
     "text": [
      "100%|██████████| 1334/1334 [05:44<00:00,  3.87it/s]\n"
     ]
    },
    {
     "output_type": "stream",
     "name": "stdout",
     "text": [
      "getting season 20202021 game ids\n",
      "getting game data\n"
     ]
    },
    {
     "output_type": "stream",
     "name": "stderr",
     "text": [
      "100%|██████████| 952/952 [05:00<00:00,  3.17it/s]\n"
     ]
    },
    {
     "output_type": "stream",
     "name": "stdout",
     "text": [
      "getting season 20212022 game ids\n",
      "getting game data\n"
     ]
    },
    {
     "output_type": "stream",
     "name": "stderr",
     "text": [
      "100%|██████████| 1507/1507 [07:06<00:00,  3.54it/s]\n"
     ]
    }
   ],
   "metadata": {
    "collapsed": false
   }
  },
  {
   "cell_type": "code",
   "execution_count": 7,
   "source": [
    "NHLLoader.from_gdrive(out_dir=\"../data/raw/\")"
   ],
   "outputs": [
    {
     "output_type": "stream",
     "name": "stderr",
     "text": [
      "Downloading...\n",
      "From: https://drive.google.com/uc?id=1Wx8N8pbRbCckZCbX9vm1r1bGFJo3CEKS\n",
      "To: /home/williamglazer/Documents/school/DS/IFT6758/data/raw/NHL.zip\n",
      "100%|██████████| 189M/189M [00:45<00:00, 4.13MB/s] \n"
     ]
    }
   ],
   "metadata": {
    "collapsed": false
   }
  },
  {
   "cell_type": "markdown",
   "source": [
    "## Cleaning"
   ],
   "metadata": {
    "collapsed": false
   }
  },
  {
   "cell_type": "code",
   "execution_count": 3,
   "source": [
    "df = NHLCleaner.format_season('ift6758/data/raw/20162017.json')\n",
    "df.head()"
   ],
   "outputs": [
    {
     "output_type": "execute_result",
     "data": {
      "text/html": [
       "<div>\n",
       "<style scoped>\n",
       "    .dataframe tbody tr th:only-of-type {\n",
       "        vertical-align: middle;\n",
       "    }\n",
       "\n",
       "    .dataframe tbody tr th {\n",
       "        vertical-align: top;\n",
       "    }\n",
       "\n",
       "    .dataframe thead th {\n",
       "        text-align: right;\n",
       "    }\n",
       "</style>\n",
       "<table border=\"1\" class=\"dataframe\">\n",
       "  <thead>\n",
       "    <tr style=\"text-align: right;\">\n",
       "      <th></th>\n",
       "      <th>game_starttime</th>\n",
       "      <th>game_endtime</th>\n",
       "      <th>game_id</th>\n",
       "      <th>datetime</th>\n",
       "      <th>offense_team_id</th>\n",
       "      <th>offense_team_name</th>\n",
       "      <th>offense_team_tricode</th>\n",
       "      <th>goal</th>\n",
       "      <th>x_coords</th>\n",
       "      <th>y_coords</th>\n",
       "      <th>...</th>\n",
       "      <th>shooter_name</th>\n",
       "      <th>shot_type</th>\n",
       "      <th>prev_type</th>\n",
       "      <th>prev_x_coords</th>\n",
       "      <th>prev_y_coords</th>\n",
       "      <th>prev_datetime</th>\n",
       "      <th>empty_net</th>\n",
       "      <th>strength_shorthand</th>\n",
       "      <th>strength_even</th>\n",
       "      <th>strength_powerplay</th>\n",
       "    </tr>\n",
       "  </thead>\n",
       "  <tbody>\n",
       "    <tr>\n",
       "      <th>0</th>\n",
       "      <td>2016-10-12T23:00:00Z</td>\n",
       "      <td>2016-10-13T01:56:40Z</td>\n",
       "      <td>0</td>\n",
       "      <td>2016-10-12T23:19:59Z</td>\n",
       "      <td>10</td>\n",
       "      <td>Toronto Maple Leafs</td>\n",
       "      <td>TOR</td>\n",
       "      <td>0</td>\n",
       "      <td>-77.0</td>\n",
       "      <td>5.0</td>\n",
       "      <td>...</td>\n",
       "      <td>Mitchell Marner</td>\n",
       "      <td>Wrist Shot</td>\n",
       "      <td>Blocked Shot</td>\n",
       "      <td>-61.0</td>\n",
       "      <td>11.0</td>\n",
       "      <td>2016-10-12T23:19:59Z</td>\n",
       "      <td>False</td>\n",
       "      <td>NaN</td>\n",
       "      <td>NaN</td>\n",
       "      <td>NaN</td>\n",
       "    </tr>\n",
       "    <tr>\n",
       "      <th>1</th>\n",
       "      <td>2016-10-12T23:00:00Z</td>\n",
       "      <td>2016-10-13T01:56:40Z</td>\n",
       "      <td>0</td>\n",
       "      <td>2016-10-12T23:21:41Z</td>\n",
       "      <td>9</td>\n",
       "      <td>Ottawa Senators</td>\n",
       "      <td>OTT</td>\n",
       "      <td>0</td>\n",
       "      <td>86.0</td>\n",
       "      <td>13.0</td>\n",
       "      <td>...</td>\n",
       "      <td>Chris Kelly</td>\n",
       "      <td>Wrist Shot</td>\n",
       "      <td>Giveaway</td>\n",
       "      <td>54.0</td>\n",
       "      <td>-5.0</td>\n",
       "      <td>2016-10-12T23:21:41Z</td>\n",
       "      <td>False</td>\n",
       "      <td>NaN</td>\n",
       "      <td>NaN</td>\n",
       "      <td>NaN</td>\n",
       "    </tr>\n",
       "    <tr>\n",
       "      <th>2</th>\n",
       "      <td>2016-10-12T23:00:00Z</td>\n",
       "      <td>2016-10-13T01:56:40Z</td>\n",
       "      <td>0</td>\n",
       "      <td>2016-10-12T23:23:17Z</td>\n",
       "      <td>9</td>\n",
       "      <td>Ottawa Senators</td>\n",
       "      <td>OTT</td>\n",
       "      <td>0</td>\n",
       "      <td>23.0</td>\n",
       "      <td>-38.0</td>\n",
       "      <td>...</td>\n",
       "      <td>Cody Ceci</td>\n",
       "      <td>Wrist Shot</td>\n",
       "      <td>Missed Shot</td>\n",
       "      <td>-72.0</td>\n",
       "      <td>0.0</td>\n",
       "      <td>2016-10-12T23:22:59Z</td>\n",
       "      <td>False</td>\n",
       "      <td>NaN</td>\n",
       "      <td>NaN</td>\n",
       "      <td>NaN</td>\n",
       "    </tr>\n",
       "    <tr>\n",
       "      <th>3</th>\n",
       "      <td>2016-10-12T23:00:00Z</td>\n",
       "      <td>2016-10-13T01:56:40Z</td>\n",
       "      <td>0</td>\n",
       "      <td>2016-10-12T23:24:02Z</td>\n",
       "      <td>9</td>\n",
       "      <td>Ottawa Senators</td>\n",
       "      <td>OTT</td>\n",
       "      <td>0</td>\n",
       "      <td>33.0</td>\n",
       "      <td>-15.0</td>\n",
       "      <td>...</td>\n",
       "      <td>Erik Karlsson</td>\n",
       "      <td>Slap Shot</td>\n",
       "      <td>Missed Shot</td>\n",
       "      <td>77.0</td>\n",
       "      <td>-2.0</td>\n",
       "      <td>2016-10-12T23:23:43Z</td>\n",
       "      <td>False</td>\n",
       "      <td>NaN</td>\n",
       "      <td>NaN</td>\n",
       "      <td>NaN</td>\n",
       "    </tr>\n",
       "    <tr>\n",
       "      <th>4</th>\n",
       "      <td>2016-10-12T23:00:00Z</td>\n",
       "      <td>2016-10-13T01:56:40Z</td>\n",
       "      <td>0</td>\n",
       "      <td>2016-10-12T23:27:30Z</td>\n",
       "      <td>10</td>\n",
       "      <td>Toronto Maple Leafs</td>\n",
       "      <td>TOR</td>\n",
       "      <td>0</td>\n",
       "      <td>-34.0</td>\n",
       "      <td>28.0</td>\n",
       "      <td>...</td>\n",
       "      <td>Martin Marincin</td>\n",
       "      <td>Wrist Shot</td>\n",
       "      <td>Hit</td>\n",
       "      <td>47.0</td>\n",
       "      <td>34.0</td>\n",
       "      <td>2016-10-12T23:27:15Z</td>\n",
       "      <td>False</td>\n",
       "      <td>NaN</td>\n",
       "      <td>NaN</td>\n",
       "      <td>NaN</td>\n",
       "    </tr>\n",
       "  </tbody>\n",
       "</table>\n",
       "<p>5 rows × 25 columns</p>\n",
       "</div>"
      ],
      "text/plain": [
       "         game_starttime          game_endtime  game_id              datetime  \\\n",
       "0  2016-10-12T23:00:00Z  2016-10-13T01:56:40Z        0  2016-10-12T23:19:59Z   \n",
       "1  2016-10-12T23:00:00Z  2016-10-13T01:56:40Z        0  2016-10-12T23:21:41Z   \n",
       "2  2016-10-12T23:00:00Z  2016-10-13T01:56:40Z        0  2016-10-12T23:23:17Z   \n",
       "3  2016-10-12T23:00:00Z  2016-10-13T01:56:40Z        0  2016-10-12T23:24:02Z   \n",
       "4  2016-10-12T23:00:00Z  2016-10-13T01:56:40Z        0  2016-10-12T23:27:30Z   \n",
       "\n",
       "   offense_team_id    offense_team_name offense_team_tricode  goal  x_coords  \\\n",
       "0               10  Toronto Maple Leafs                  TOR     0     -77.0   \n",
       "1                9      Ottawa Senators                  OTT     0      86.0   \n",
       "2                9      Ottawa Senators                  OTT     0      23.0   \n",
       "3                9      Ottawa Senators                  OTT     0      33.0   \n",
       "4               10  Toronto Maple Leafs                  TOR     0     -34.0   \n",
       "\n",
       "   y_coords  ...     shooter_name   shot_type     prev_type prev_x_coords  \\\n",
       "0       5.0  ...  Mitchell Marner  Wrist Shot  Blocked Shot         -61.0   \n",
       "1      13.0  ...      Chris Kelly  Wrist Shot      Giveaway          54.0   \n",
       "2     -38.0  ...        Cody Ceci  Wrist Shot   Missed Shot         -72.0   \n",
       "3     -15.0  ...    Erik Karlsson   Slap Shot   Missed Shot          77.0   \n",
       "4      28.0  ...  Martin Marincin  Wrist Shot           Hit          47.0   \n",
       "\n",
       "   prev_y_coords         prev_datetime empty_net strength_shorthand  \\\n",
       "0           11.0  2016-10-12T23:19:59Z     False                NaN   \n",
       "1           -5.0  2016-10-12T23:21:41Z     False                NaN   \n",
       "2            0.0  2016-10-12T23:22:59Z     False                NaN   \n",
       "3           -2.0  2016-10-12T23:23:43Z     False                NaN   \n",
       "4           34.0  2016-10-12T23:27:15Z     False                NaN   \n",
       "\n",
       "   strength_even  strength_powerplay  \n",
       "0            NaN                 NaN  \n",
       "1            NaN                 NaN  \n",
       "2            NaN                 NaN  \n",
       "3            NaN                 NaN  \n",
       "4            NaN                 NaN  \n",
       "\n",
       "[5 rows x 25 columns]"
      ]
     },
     "metadata": {},
     "execution_count": 3
    }
   ],
   "metadata": {
    "collapsed": false
   }
  },
  {
   "cell_type": "code",
   "execution_count": 8,
   "source": [
    "df.to_csv('../data/tabular/20162017.csv', index=False)"
   ],
   "outputs": [],
   "metadata": {
    "collapsed": false
   }
  },
  {
   "cell_type": "code",
   "execution_count": 4,
   "source": [
    "NHLCleaner.format_folder('ift6758/data/raw/', 'ift6758/data/tabular/')"
   ],
   "outputs": [
    {
     "output_type": "stream",
     "name": "stdout",
     "text": [
      "ift6758/data/raw/.DS_Store\n",
      "ift6758/data/raw/.DS_Store not JSON\n",
      "ift6758/data/raw/20172018.json\n",
      "ift6758/data/raw/20192020.json\n",
      "ift6758/data/raw/20202021.json\n",
      "ift6758/data/raw/20212022.json\n",
      "ift6758/data/raw/NHL.zip\n",
      "ift6758/data/raw/NHL.zip not JSON\n",
      "ift6758/data/raw/20182019.json\n",
      "ift6758/data/raw/20162017.json\n"
     ]
    }
   ],
   "metadata": {}
  },
  {
   "cell_type": "code",
   "execution_count": null,
   "source": [],
   "outputs": [],
   "metadata": {}
  }
 ],
 "metadata": {
  "kernelspec": {
   "name": "python3",
   "display_name": "Python 3.9.7 64-bit"
  },
  "language_info": {
   "name": "python",
   "version": "3.9.7",
   "mimetype": "text/x-python",
   "codemirror_mode": {
    "name": "ipython",
    "version": 3
   },
   "pygments_lexer": "ipython3",
   "nbconvert_exporter": "python",
   "file_extension": ".py"
  },
  "interpreter": {
   "hash": "aee8b7b246df8f9039afb4144a1f6fd8d2ca17a180786b69acc140d282b71a49"
  }
 },
 "nbformat": 4,
 "nbformat_minor": 2
}