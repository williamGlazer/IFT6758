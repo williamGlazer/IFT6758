{
 "cells": [
  {
   "cell_type": "markdown",
   "source": [
    "# Notebook to Extract Data\n",
    "The purpose of this notebook is to:\n",
    "1. Extract the raw data\n",
    "2. Format it in a tabular format"
   ],
   "metadata": {
    "collapsed": false
   }
  },
  {
   "cell_type": "code",
   "execution_count": 1,
   "source": [
    "from ift6758.data import NHLLoader, NHLCleaner"
   ],
   "outputs": [],
   "metadata": {
    "collapsed": false
   }
  },
  {
   "cell_type": "code",
   "execution_count": 2,
   "outputs": [],
   "source": [
    "RAW_DIR = \"../data/raw/\"\n",
    "FORMATTED_DIR = \"../data/tabular/\""
   ],
   "metadata": {
    "collapsed": false
   }
  },
  {
   "cell_type": "markdown",
   "source": [
    "## Extraction\n",
    "\n",
    "You can Extract the entire dataset from the API directly which takes ~30-60mins\n",
    "```Python\n",
    "NHLLoader.from_api(out_dir='../data/raw/')\n",
    "```\n",
    "\n",
    "Or you can extract the data from our google drive folder"
   ],
   "metadata": {
    "collapsed": false
   }
  },
  {
   "cell_type": "code",
   "execution_count": 3,
   "source": [
    "NHLLoader.from_gdrive(out_dir=RAW_DIR)"
   ],
   "outputs": [
    {
     "name": "stderr",
     "output_type": "stream",
     "text": [
      "Downloading...\n",
      "From: https://drive.google.com/uc?id=1Wx8N8pbRbCckZCbX9vm1r1bGFJo3CEKS&confirm=t&uuid=7050760d-0a09-4ce6-beae-d4ceb73ad907&at=AHV7M3fE5iwaeFSTWPYP6lZlLumq:1669306486906\n",
      "To: /home/williamglazer/Documents/school/DS/IFT6758/data/raw/NHL.zip\n",
      "100%|██████████| 189M/189M [00:23<00:00, 8.21MB/s] \n"
     ]
    }
   ],
   "metadata": {
    "collapsed": false
   }
  },
  {
   "cell_type": "markdown",
   "source": [
    "## Cleaning\n",
    "\n",
    "To get a single formatted year from a csv do the following:\n",
    "```Python\n",
    "df = NHLCleaner.format_season('ift6758/data/raw/20162017.json')\n",
    "```\n",
    "\n",
    "Otherwise you can format all files within a specific folder:"
   ],
   "metadata": {
    "collapsed": false
   }
  },
  {
   "cell_type": "code",
   "execution_count": 4,
   "source": [
    "NHLCleaner.format_folder(RAW_DIR, FORMATTED_DIR)"
   ],
   "outputs": [
    {
     "name": "stdout",
     "output_type": "stream",
     "text": [
      "../data/raw/20172018.json\n",
      "../data/raw/NHL.zipgwwh52nitmp\n",
      "../data/raw/NHL.zipgwwh52nitmp not JSON\n",
      "../data/raw/20192020.json\n",
      "../data/raw/20182019.json\n",
      "../data/raw/20212022.json\n",
      "../data/raw/20202021.json\n",
      "../data/raw/20162017.json\n",
      "../data/raw/NHL.zip\n",
      "../data/raw/NHL.zip not JSON\n"
     ]
    }
   ],
   "metadata": {}
  }
 ],
 "metadata": {
  "kernelspec": {
   "name": "python3",
   "display_name": "Python 3.9.7 64-bit"
  },
  "language_info": {
   "name": "python",
   "version": "3.9.7",
   "mimetype": "text/x-python",
   "codemirror_mode": {
    "name": "ipython",
    "version": 3
   },
   "pygments_lexer": "ipython3",
   "nbconvert_exporter": "python",
   "file_extension": ".py"
  },
  "interpreter": {
   "hash": "aee8b7b246df8f9039afb4144a1f6fd8d2ca17a180786b69acc140d282b71a49"
  }
 },
 "nbformat": 4,
 "nbformat_minor": 2
}
