{
 "cells": [
  {
   "cell_type": "markdown",
   "source": [
    "# Test Evaluation"
   ],
   "metadata": {
    "collapsed": false
   }
  },
  {
   "cell_type": "markdown",
   "source": [
    "add 4 other models from notebook 6 and 7"
   ],
   "metadata": {
    "collapsed": false
   }
  },
  {
   "cell_type": "code",
   "execution_count": null,
   "outputs": [],
   "source": [
    "from sklearn.ensemble import AdaBoostClassifier\n",
    "from sklearn.tree import DecisionTreeClassifier\n",
    "from ift6758.pipeline import ExperimentPipeline, DEFAULT_TRANSFORMATIONS\n",
    "\n",
    "pipeline = ExperimentPipeline(\n",
    "    tabular_dir='../data/tabular',\n",
    "    dataset_partition='stratified',\n",
    "    feature_columns=[\n",
    "        'shot_distance',\n",
    "        'shot_angle',\n",
    "        'dist_prev_event',\n",
    "        'time_lapsed_prev_event_in_seconds',\n",
    "        'game_secs'\n",
    "    ],\n",
    "    target_column='goal',\n",
    "    pipeline_steps=[\n",
    "        (\n",
    "            'adaboost',\n",
    "            AdaBoostClassifier(\n",
    "                base_estimator=DecisionTreeClassifier(max_depth=3),\n",
    "                learning_rate=0.1,\n",
    "                n_estimators=75\n",
    "            )\n",
    "        ),\n",
    "    ],\n",
    "    dataset_transformations=DEFAULT_TRANSFORMATIONS,\n",
    "    parameter_grid={},\n",
    "    metric='roc_auc',\n",
    "    test_season=20192020\n",
    ")"
   ],
   "metadata": {
    "collapsed": false
   }
  },
  {
   "cell_type": "code",
   "execution_count": null,
   "outputs": [],
   "source": [
    "pipeline.run()"
   ],
   "metadata": {
    "collapsed": false
   }
  },
  {
   "cell_type": "code",
   "execution_count": null,
   "outputs": [],
   "source": [
    "df_x, df_y = pipeline.dataset['x_test'], pipeline.dataset['y_test']\n",
    "df_x_playoffs, df_y_playoffs = # TODO\n",
    "df_x_regular, df_y_regular = # TODO"
   ],
   "metadata": {
    "collapsed": false
   }
  },
  {
   "cell_type": "code",
   "execution_count": null,
   "outputs": [],
   "source": [
    "pipeline.dataset['x_test'], pipeline.dataset['y_test'] = df_x_regular, df_y_regular\n",
    "pipeline.get_metrics('test')\n",
    "pipeline._get_figures('test')"
   ],
   "metadata": {
    "collapsed": false
   }
  },
  {
   "cell_type": "code",
   "execution_count": null,
   "outputs": [],
   "source": [
    "pipeline.dataset['x_test'], pipeline.dataset['y_test'] = df_x_playoffs, df_y_playoffs\n",
    "pipeline.get_metrics('test')\n",
    "pipeline._get_figures('test')"
   ],
   "metadata": {
    "collapsed": false
   }
  }
 ],
 "metadata": {
  "kernelspec": {
   "display_name": "Python 3",
   "language": "python",
   "name": "python3"
  },
  "language_info": {
   "codemirror_mode": {
    "name": "ipython",
    "version": 2
   },
   "file_extension": ".py",
   "mimetype": "text/x-python",
   "name": "python",
   "nbconvert_exporter": "python",
   "pygments_lexer": "ipython2",
   "version": "2.7.6"
  }
 },
 "nbformat": 4,
 "nbformat_minor": 0
}
