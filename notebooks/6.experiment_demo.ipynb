{
 "cells": [
  {
   "cell_type": "code",
   "execution_count": 1,
   "outputs": [],
   "source": [
    "from ift6758.pipeline import ExperimentPipeline, DEFAULT_TRANSFORMATIONS"
   ],
   "metadata": {
    "collapsed": false
   }
  },
  {
   "cell_type": "code",
   "execution_count": 2,
   "outputs": [
    {
     "data": {
      "text/plain": "         game starttime          game endtime  gameId  offense_team_id  \\\n0  2016-10-12T23:00:00Z  2016-10-13T01:56:40Z       0               10   \n1  2016-10-12T23:00:00Z  2016-10-13T01:56:40Z       1                9   \n2  2016-10-12T23:00:00Z  2016-10-13T01:56:40Z       2                9   \n3  2016-10-12T23:00:00Z  2016-10-13T01:56:40Z       3                9   \n4  2016-10-12T23:00:00Z  2016-10-13T01:56:40Z       4               10   \n\n     offense_team_name offense_team_tricode  goal  x_coords  y_coords  \\\n0  Toronto Maple Leafs                  TOR     0      77.0      -5.0   \n1      Ottawa Senators                  OTT     0      86.0      13.0   \n2      Ottawa Senators                  OTT     0      23.0     -38.0   \n3      Ottawa Senators                  OTT     0      33.0     -15.0   \n4  Toronto Maple Leafs                  TOR     0      34.0     -28.0   \n\n   goalie_id  ... shooter_id     shooter_name   shot type empty net  \\\n0    8467950  ...    8478483  Mitchell Marner  Wrist Shot     False   \n1    8475883  ...    8467967      Chris Kelly  Wrist Shot     False   \n2    8475883  ...    8476879        Cody Ceci  Wrist Shot     False   \n3    8475883  ...    8474578    Erik Karlsson   Slap Shot     False   \n4    8467950  ...    8475716  Martin Marincin  Wrist Shot     False   \n\n  strength_shorthand  strength_even  strength_powerplay    season  shot_angle  \\\n0                0.0            0.0                 0.0  20162017    7.275005   \n1                0.0            0.0                 0.0  20162017    2.260502   \n2                0.0            0.0                 0.0  20162017   27.460225   \n3                0.0            0.0                 0.0  20162017   28.300756   \n4                0.0            0.0                 0.0  20162017   25.177535   \n\n   shot_distance  \n0      13.000000  \n1      13.341664  \n2      76.157731  \n3      57.974132  \n4      61.717096  \n\n[5 rows x 21 columns]",
      "text/html": "<div>\n<style scoped>\n    .dataframe tbody tr th:only-of-type {\n        vertical-align: middle;\n    }\n\n    .dataframe tbody tr th {\n        vertical-align: top;\n    }\n\n    .dataframe thead th {\n        text-align: right;\n    }\n</style>\n<table border=\"1\" class=\"dataframe\">\n  <thead>\n    <tr style=\"text-align: right;\">\n      <th></th>\n      <th>game starttime</th>\n      <th>game endtime</th>\n      <th>gameId</th>\n      <th>offense_team_id</th>\n      <th>offense_team_name</th>\n      <th>offense_team_tricode</th>\n      <th>goal</th>\n      <th>x_coords</th>\n      <th>y_coords</th>\n      <th>goalie_id</th>\n      <th>...</th>\n      <th>shooter_id</th>\n      <th>shooter_name</th>\n      <th>shot type</th>\n      <th>empty net</th>\n      <th>strength_shorthand</th>\n      <th>strength_even</th>\n      <th>strength_powerplay</th>\n      <th>season</th>\n      <th>shot_angle</th>\n      <th>shot_distance</th>\n    </tr>\n  </thead>\n  <tbody>\n    <tr>\n      <th>0</th>\n      <td>2016-10-12T23:00:00Z</td>\n      <td>2016-10-13T01:56:40Z</td>\n      <td>0</td>\n      <td>10</td>\n      <td>Toronto Maple Leafs</td>\n      <td>TOR</td>\n      <td>0</td>\n      <td>77.0</td>\n      <td>-5.0</td>\n      <td>8467950</td>\n      <td>...</td>\n      <td>8478483</td>\n      <td>Mitchell Marner</td>\n      <td>Wrist Shot</td>\n      <td>False</td>\n      <td>0.0</td>\n      <td>0.0</td>\n      <td>0.0</td>\n      <td>20162017</td>\n      <td>7.275005</td>\n      <td>13.000000</td>\n    </tr>\n    <tr>\n      <th>1</th>\n      <td>2016-10-12T23:00:00Z</td>\n      <td>2016-10-13T01:56:40Z</td>\n      <td>1</td>\n      <td>9</td>\n      <td>Ottawa Senators</td>\n      <td>OTT</td>\n      <td>0</td>\n      <td>86.0</td>\n      <td>13.0</td>\n      <td>8475883</td>\n      <td>...</td>\n      <td>8467967</td>\n      <td>Chris Kelly</td>\n      <td>Wrist Shot</td>\n      <td>False</td>\n      <td>0.0</td>\n      <td>0.0</td>\n      <td>0.0</td>\n      <td>20162017</td>\n      <td>2.260502</td>\n      <td>13.341664</td>\n    </tr>\n    <tr>\n      <th>2</th>\n      <td>2016-10-12T23:00:00Z</td>\n      <td>2016-10-13T01:56:40Z</td>\n      <td>2</td>\n      <td>9</td>\n      <td>Ottawa Senators</td>\n      <td>OTT</td>\n      <td>0</td>\n      <td>23.0</td>\n      <td>-38.0</td>\n      <td>8475883</td>\n      <td>...</td>\n      <td>8476879</td>\n      <td>Cody Ceci</td>\n      <td>Wrist Shot</td>\n      <td>False</td>\n      <td>0.0</td>\n      <td>0.0</td>\n      <td>0.0</td>\n      <td>20162017</td>\n      <td>27.460225</td>\n      <td>76.157731</td>\n    </tr>\n    <tr>\n      <th>3</th>\n      <td>2016-10-12T23:00:00Z</td>\n      <td>2016-10-13T01:56:40Z</td>\n      <td>3</td>\n      <td>9</td>\n      <td>Ottawa Senators</td>\n      <td>OTT</td>\n      <td>0</td>\n      <td>33.0</td>\n      <td>-15.0</td>\n      <td>8475883</td>\n      <td>...</td>\n      <td>8474578</td>\n      <td>Erik Karlsson</td>\n      <td>Slap Shot</td>\n      <td>False</td>\n      <td>0.0</td>\n      <td>0.0</td>\n      <td>0.0</td>\n      <td>20162017</td>\n      <td>28.300756</td>\n      <td>57.974132</td>\n    </tr>\n    <tr>\n      <th>4</th>\n      <td>2016-10-12T23:00:00Z</td>\n      <td>2016-10-13T01:56:40Z</td>\n      <td>4</td>\n      <td>10</td>\n      <td>Toronto Maple Leafs</td>\n      <td>TOR</td>\n      <td>0</td>\n      <td>34.0</td>\n      <td>-28.0</td>\n      <td>8467950</td>\n      <td>...</td>\n      <td>8475716</td>\n      <td>Martin Marincin</td>\n      <td>Wrist Shot</td>\n      <td>False</td>\n      <td>0.0</td>\n      <td>0.0</td>\n      <td>0.0</td>\n      <td>20162017</td>\n      <td>25.177535</td>\n      <td>61.717096</td>\n    </tr>\n  </tbody>\n</table>\n<p>5 rows × 21 columns</p>\n</div>"
     },
     "execution_count": 2,
     "metadata": {},
     "output_type": "execute_result"
    }
   ],
   "source": [
    "df = ExperimentPipeline.get_data('../data/tabular', transformations=DEFAULT_TRANSFORMATIONS)\n",
    "df.head()"
   ],
   "metadata": {
    "collapsed": false
   }
  },
  {
   "cell_type": "code",
   "execution_count": 3,
   "outputs": [],
   "source": [
    "import os\n",
    "from getpass import getpass\n",
    "\n",
    "os.environ['COMET_API_KEY'] = getpass()"
   ],
   "metadata": {
    "collapsed": false
   }
  },
  {
   "cell_type": "code",
   "execution_count": 4,
   "metadata": {
    "collapsed": true
   },
   "outputs": [],
   "source": [
    "from sklearn.linear_model import LogisticRegression\n",
    "\n",
    "pipeline = ExperimentPipeline(\n",
    "    tabular_dir='../data/tabular',\n",
    "    feature_columns=['shot_distance', 'shot_angle'],\n",
    "    target_column='goal',\n",
    "    pipeline_steps=[\n",
    "        ('logreg', LogisticRegression()),\n",
    "    ],\n",
    "    dataset_transformations=DEFAULT_TRANSFORMATIONS,\n",
    "    parameter_grid=[\n",
    "        {'logreg__penalty': ['l2'], 'logreg__C': [0.1, 1, 10]},\n",
    "    ],\n",
    "    enable_comet=False\n",
    ")"
   ]
  },
  {
   "cell_type": "code",
   "execution_count": 5,
   "outputs": [
    {
     "name": "stdout",
     "output_type": "stream",
     "text": [
      "Fitting 5 folds for each of 3 candidates, totalling 15 fits\n",
      "[CV 1/5] END .logreg__C=0.1, logreg__penalty=l2;, score=0.905 total time=   0.9s\n",
      "[CV 2/5] END .logreg__C=0.1, logreg__penalty=l2;, score=0.905 total time=   0.9s\n",
      "[CV 3/5] END .logreg__C=0.1, logreg__penalty=l2;, score=0.905 total time=   0.9s\n",
      "[CV 4/5] END .logreg__C=0.1, logreg__penalty=l2;, score=0.905 total time=   0.9s\n",
      "[CV 5/5] END .logreg__C=0.1, logreg__penalty=l2;, score=0.905 total time=   0.9s\n",
      "[CV 1/5] END ...logreg__C=1, logreg__penalty=l2;, score=0.905 total time=   0.9s\n",
      "[CV 2/5] END ...logreg__C=1, logreg__penalty=l2;, score=0.905 total time=   0.9s\n",
      "[CV 3/5] END ...logreg__C=1, logreg__penalty=l2;, score=0.905 total time=   0.9s\n",
      "[CV 4/5] END ...logreg__C=1, logreg__penalty=l2;, score=0.905 total time=   0.9s\n",
      "[CV 5/5] END ...logreg__C=1, logreg__penalty=l2;, score=0.905 total time=   0.9s\n",
      "[CV 1/5] END ..logreg__C=10, logreg__penalty=l2;, score=0.905 total time=   0.9s\n",
      "[CV 2/5] END ..logreg__C=10, logreg__penalty=l2;, score=0.905 total time=   0.9s\n",
      "[CV 3/5] END ..logreg__C=10, logreg__penalty=l2;, score=0.905 total time=   0.8s\n",
      "[CV 4/5] END ..logreg__C=10, logreg__penalty=l2;, score=0.905 total time=   0.9s\n",
      "[CV 5/5] END ..logreg__C=10, logreg__penalty=l2;, score=0.905 total time=   0.9s\n"
     ]
    }
   ],
   "source": [
    "pipeline.run()"
   ],
   "metadata": {
    "collapsed": false
   }
  },
  {
   "cell_type": "code",
   "execution_count": 6,
   "outputs": [
    {
     "data": {
      "text/plain": "0.9050868966599304"
     },
     "execution_count": 6,
     "metadata": {},
     "output_type": "execute_result"
    }
   ],
   "source": [
    "pipeline.grid.best_score_"
   ],
   "metadata": {
    "collapsed": false
   }
  },
  {
   "cell_type": "code",
   "execution_count": 7,
   "outputs": [
    {
     "data": {
      "text/plain": "\"Pipeline(steps=[('logreg', LogisticRegression(C=0.1))])\""
     },
     "execution_count": 7,
     "metadata": {},
     "output_type": "execute_result"
    }
   ],
   "source": [
    "str(pipeline.grid.best_estimator_)"
   ],
   "metadata": {
    "collapsed": false
   }
  }
 ],
 "metadata": {
  "kernelspec": {
   "display_name": "Python 3",
   "language": "python",
   "name": "python3"
  },
  "language_info": {
   "codemirror_mode": {
    "name": "ipython",
    "version": 2
   },
   "file_extension": ".py",
   "mimetype": "text/x-python",
   "name": "python",
   "nbconvert_exporter": "python",
   "pygments_lexer": "ipython2",
   "version": "2.7.6"
  }
 },
 "nbformat": 4,
 "nbformat_minor": 0
}
