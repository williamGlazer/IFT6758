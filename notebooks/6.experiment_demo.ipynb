{
 "cells": [
  {
   "cell_type": "code",
   "execution_count": 1,
   "source": [
    "from ift6758.pipeline import ExperimentPipeline, DEFAULT_TRANSFORMATIONS\n",
    "from importlib import reload \n",
    "import ift6758.pipeline"
   ],
   "outputs": [],
   "metadata": {
    "collapsed": false
   }
  },
  {
   "cell_type": "code",
   "execution_count": 2,
   "source": [
    "reload(ift6758.pipeline.features)\n",
    "\n",
    "from ift6758.pipeline.features import (\n",
    "    mirror_coordinates,\n",
    "    append_shot_angle,\n",
    "    append_shot_distance,\n",
    "    replace_nan_by_0,\n",
    "    append_game_secs,\n",
    "    append_time_lapse_prev,\n",
    "    append_dist_prev,\n",
    "    append_rebound,\n",
    "    append_angle_change,\n",
    "    append_speed\n",
    ")"
   ],
   "outputs": [],
   "metadata": {}
  },
  {
   "cell_type": "code",
   "execution_count": 4,
   "source": [
    "%%time\n",
    "trans = [\n",
    "    mirror_coordinates,\n",
    "    append_shot_angle,\n",
    "    append_shot_distance,\n",
    "    replace_nan_by_0,\n",
    "    append_game_secs,\n",
    "    append_time_lapse_prev,\n",
    "    append_dist_prev,\n",
    "    append_rebound,\n",
    "    append_angle_change,\n",
    "    append_speed\n",
    "]\n",
    "df = ExperimentPipeline.get_data('data/tabular', transformations=trans)\n",
    "df.head()"
   ],
   "outputs": [
    {
     "name": "stdout",
     "output_type": "stream",
     "text": [
      "applying mirror_coordinates\n",
      "applying append_shot_angle\n",
      "applying append_shot_distance\n",
      "applying replace_nan_by_0\n",
      "applying append_game_secs\n",
      "applying append_time_lapse_prev\n",
      "applying append_dist_prev\n",
      "applying append_rebound\n",
      "applying append_angle_change\n",
      "applying append_speed\n",
      "CPU times: user 7.5 s, sys: 1.05 s, total: 8.55 s\n",
      "Wall time: 8.58 s\n"
     ]
    },
    {
     "data": {
      "text/plain": "   Unnamed: 0        game_starttime          game_endtime  game_id  \\\n0           0  2016-10-12T23:00:00Z  2016-10-13T01:56:40Z        0   \n1           1  2016-10-12T23:00:00Z  2016-10-13T01:56:40Z        0   \n2           2  2016-10-12T23:00:00Z  2016-10-13T01:56:40Z        0   \n3           3  2016-10-12T23:00:00Z  2016-10-13T01:56:40Z        0   \n4           4  2016-10-12T23:00:00Z  2016-10-13T01:56:40Z        0   \n\n               datetime  offense_team_id    offense_team_name  \\\n0  2016-10-12T23:19:59Z               10  Toronto Maple Leafs   \n1  2016-10-12T23:21:41Z                9      Ottawa Senators   \n2  2016-10-12T23:23:17Z                9      Ottawa Senators   \n3  2016-10-12T23:24:02Z                9      Ottawa Senators   \n4  2016-10-12T23:27:30Z               10  Toronto Maple Leafs   \n\n  offense_team_tricode  goal  x_coords  ...  strength_powerplay    season  \\\n0                  TOR     0      77.0  ...                 0.0  20162017   \n1                  OTT     0      86.0  ...                 0.0  20162017   \n2                  OTT     0      23.0  ...                 0.0  20162017   \n3                  OTT     0      33.0  ...                 0.0  20162017   \n4                  TOR     0      34.0  ...                 0.0  20162017   \n\n  shot_angle  shot_distance game_secs  time_lapsed_prev_event_in_seconds  \\\n0  67.380135      13.000000        71                                  0   \n1  12.994617      13.341664       173                                  0   \n2  60.068488      76.157731       241                                 18   \n3  75.004921      57.974132       286                                 19   \n4  63.019769      61.717096       406                                 15   \n\n  dist_prev_event rebound angle_change     speed  \n0      138.924440   False         None       inf  \n1       36.715120   False         None       inf  \n2      102.318131   False         None  5.684341  \n3       45.880279   False         None  2.414752  \n4       63.348244   False         None  4.223216  \n\n[5 rows x 35 columns]",
      "text/html": "<div>\n<style scoped>\n    .dataframe tbody tr th:only-of-type {\n        vertical-align: middle;\n    }\n\n    .dataframe tbody tr th {\n        vertical-align: top;\n    }\n\n    .dataframe thead th {\n        text-align: right;\n    }\n</style>\n<table border=\"1\" class=\"dataframe\">\n  <thead>\n    <tr style=\"text-align: right;\">\n      <th></th>\n      <th>Unnamed: 0</th>\n      <th>game_starttime</th>\n      <th>game_endtime</th>\n      <th>game_id</th>\n      <th>datetime</th>\n      <th>offense_team_id</th>\n      <th>offense_team_name</th>\n      <th>offense_team_tricode</th>\n      <th>goal</th>\n      <th>x_coords</th>\n      <th>...</th>\n      <th>strength_powerplay</th>\n      <th>season</th>\n      <th>shot_angle</th>\n      <th>shot_distance</th>\n      <th>game_secs</th>\n      <th>time_lapsed_prev_event_in_seconds</th>\n      <th>dist_prev_event</th>\n      <th>rebound</th>\n      <th>angle_change</th>\n      <th>speed</th>\n    </tr>\n  </thead>\n  <tbody>\n    <tr>\n      <th>0</th>\n      <td>0</td>\n      <td>2016-10-12T23:00:00Z</td>\n      <td>2016-10-13T01:56:40Z</td>\n      <td>0</td>\n      <td>2016-10-12T23:19:59Z</td>\n      <td>10</td>\n      <td>Toronto Maple Leafs</td>\n      <td>TOR</td>\n      <td>0</td>\n      <td>77.0</td>\n      <td>...</td>\n      <td>0.0</td>\n      <td>20162017</td>\n      <td>67.380135</td>\n      <td>13.000000</td>\n      <td>71</td>\n      <td>0</td>\n      <td>138.924440</td>\n      <td>False</td>\n      <td>None</td>\n      <td>inf</td>\n    </tr>\n    <tr>\n      <th>1</th>\n      <td>1</td>\n      <td>2016-10-12T23:00:00Z</td>\n      <td>2016-10-13T01:56:40Z</td>\n      <td>0</td>\n      <td>2016-10-12T23:21:41Z</td>\n      <td>9</td>\n      <td>Ottawa Senators</td>\n      <td>OTT</td>\n      <td>0</td>\n      <td>86.0</td>\n      <td>...</td>\n      <td>0.0</td>\n      <td>20162017</td>\n      <td>12.994617</td>\n      <td>13.341664</td>\n      <td>173</td>\n      <td>0</td>\n      <td>36.715120</td>\n      <td>False</td>\n      <td>None</td>\n      <td>inf</td>\n    </tr>\n    <tr>\n      <th>2</th>\n      <td>2</td>\n      <td>2016-10-12T23:00:00Z</td>\n      <td>2016-10-13T01:56:40Z</td>\n      <td>0</td>\n      <td>2016-10-12T23:23:17Z</td>\n      <td>9</td>\n      <td>Ottawa Senators</td>\n      <td>OTT</td>\n      <td>0</td>\n      <td>23.0</td>\n      <td>...</td>\n      <td>0.0</td>\n      <td>20162017</td>\n      <td>60.068488</td>\n      <td>76.157731</td>\n      <td>241</td>\n      <td>18</td>\n      <td>102.318131</td>\n      <td>False</td>\n      <td>None</td>\n      <td>5.684341</td>\n    </tr>\n    <tr>\n      <th>3</th>\n      <td>3</td>\n      <td>2016-10-12T23:00:00Z</td>\n      <td>2016-10-13T01:56:40Z</td>\n      <td>0</td>\n      <td>2016-10-12T23:24:02Z</td>\n      <td>9</td>\n      <td>Ottawa Senators</td>\n      <td>OTT</td>\n      <td>0</td>\n      <td>33.0</td>\n      <td>...</td>\n      <td>0.0</td>\n      <td>20162017</td>\n      <td>75.004921</td>\n      <td>57.974132</td>\n      <td>286</td>\n      <td>19</td>\n      <td>45.880279</td>\n      <td>False</td>\n      <td>None</td>\n      <td>2.414752</td>\n    </tr>\n    <tr>\n      <th>4</th>\n      <td>4</td>\n      <td>2016-10-12T23:00:00Z</td>\n      <td>2016-10-13T01:56:40Z</td>\n      <td>0</td>\n      <td>2016-10-12T23:27:30Z</td>\n      <td>10</td>\n      <td>Toronto Maple Leafs</td>\n      <td>TOR</td>\n      <td>0</td>\n      <td>34.0</td>\n      <td>...</td>\n      <td>0.0</td>\n      <td>20162017</td>\n      <td>63.019769</td>\n      <td>61.717096</td>\n      <td>406</td>\n      <td>15</td>\n      <td>63.348244</td>\n      <td>False</td>\n      <td>None</td>\n      <td>4.223216</td>\n    </tr>\n  </tbody>\n</table>\n<p>5 rows × 35 columns</p>\n</div>"
     },
     "execution_count": 4,
     "metadata": {},
     "output_type": "execute_result"
    }
   ],
   "metadata": {
    "collapsed": false
   }
  },
  {
   "cell_type": "code",
   "execution_count": 3,
   "source": [
    "import os\n",
    "from getpass import getpass\n",
    "\n",
    "os.environ['COMET_API_KEY'] = getpass()"
   ],
   "outputs": [],
   "metadata": {
    "collapsed": false
   }
  },
  {
   "cell_type": "code",
   "execution_count": 4,
   "source": [
    "from sklearn.linear_model import LogisticRegression\n",
    "\n",
    "pipeline = ExperimentPipeline(\n",
    "    tabular_dir='../data/tabular',\n",
    "    feature_columns=['shot_distance', 'shot_angle'],\n",
    "    target_column='goal',\n",
    "    pipeline_steps=[\n",
    "        ('logreg', LogisticRegression()),\n",
    "    ],\n",
    "    dataset_transformations=DEFAULT_TRANSFORMATIONS,\n",
    "    parameter_grid=[\n",
    "        {'logreg__penalty': ['l2'], 'logreg__C': [0.1, 1, 10]},\n",
    "    ],\n",
    "    enable_comet=False\n",
    ")"
   ],
   "outputs": [],
   "metadata": {
    "collapsed": true
   }
  },
  {
   "cell_type": "code",
   "execution_count": 5,
   "source": [
    "pipeline.run()"
   ],
   "outputs": [
    {
     "output_type": "stream",
     "name": "stdout",
     "text": [
      "Fitting 5 folds for each of 3 candidates, totalling 15 fits\n",
      "[CV 1/5] END .logreg__C=0.1, logreg__penalty=l2;, score=0.905 total time=   0.9s\n",
      "[CV 2/5] END .logreg__C=0.1, logreg__penalty=l2;, score=0.905 total time=   0.9s\n",
      "[CV 3/5] END .logreg__C=0.1, logreg__penalty=l2;, score=0.905 total time=   0.9s\n",
      "[CV 4/5] END .logreg__C=0.1, logreg__penalty=l2;, score=0.905 total time=   0.9s\n",
      "[CV 5/5] END .logreg__C=0.1, logreg__penalty=l2;, score=0.905 total time=   0.9s\n",
      "[CV 1/5] END ...logreg__C=1, logreg__penalty=l2;, score=0.905 total time=   0.9s\n",
      "[CV 2/5] END ...logreg__C=1, logreg__penalty=l2;, score=0.905 total time=   0.9s\n",
      "[CV 3/5] END ...logreg__C=1, logreg__penalty=l2;, score=0.905 total time=   0.9s\n",
      "[CV 4/5] END ...logreg__C=1, logreg__penalty=l2;, score=0.905 total time=   0.9s\n",
      "[CV 5/5] END ...logreg__C=1, logreg__penalty=l2;, score=0.905 total time=   0.9s\n",
      "[CV 1/5] END ..logreg__C=10, logreg__penalty=l2;, score=0.905 total time=   0.9s\n",
      "[CV 2/5] END ..logreg__C=10, logreg__penalty=l2;, score=0.905 total time=   0.9s\n",
      "[CV 3/5] END ..logreg__C=10, logreg__penalty=l2;, score=0.905 total time=   0.8s\n",
      "[CV 4/5] END ..logreg__C=10, logreg__penalty=l2;, score=0.905 total time=   0.9s\n",
      "[CV 5/5] END ..logreg__C=10, logreg__penalty=l2;, score=0.905 total time=   0.9s\n"
     ]
    }
   ],
   "metadata": {
    "collapsed": false
   }
  },
  {
   "cell_type": "code",
   "execution_count": 6,
   "source": [
    "pipeline.grid.best_score_"
   ],
   "outputs": [
    {
     "output_type": "execute_result",
     "data": {
      "text/plain": [
       "0.9050868966599304"
      ]
     },
     "metadata": {},
     "execution_count": 6
    }
   ],
   "metadata": {
    "collapsed": false
   }
  },
  {
   "cell_type": "code",
   "execution_count": 7,
   "source": [
    "str(pipeline.grid.best_estimator_)"
   ],
   "outputs": [
    {
     "output_type": "execute_result",
     "data": {
      "text/plain": [
       "\"Pipeline(steps=[('logreg', LogisticRegression(C=0.1))])\""
      ]
     },
     "metadata": {},
     "execution_count": 7
    }
   ],
   "metadata": {
    "collapsed": false
   }
  }
 ],
 "metadata": {
  "kernelspec": {
   "name": "python3",
   "display_name": "Python 3.9.7 64-bit"
  },
  "language_info": {
   "name": "python",
   "version": "3.9.7",
   "mimetype": "text/x-python",
   "codemirror_mode": {
    "name": "ipython",
    "version": 3
   },
   "pygments_lexer": "ipython3",
   "nbconvert_exporter": "python",
   "file_extension": ".py"
  },
  "interpreter": {
   "hash": "aee8b7b246df8f9039afb4144a1f6fd8d2ca17a180786b69acc140d282b71a49"
  }
 },
 "nbformat": 4,
 "nbformat_minor": 2
}
